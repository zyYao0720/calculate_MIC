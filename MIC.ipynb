{
 "cells": [
  {
   "cell_type": "code",
   "execution_count": 12,
   "id": "b4d5a4aa",
   "metadata": {},
   "outputs": [],
   "source": [
    "from minepy import MINE\n",
    "import pandas as pd\n",
    "import numpy as np\n",
    "\n",
    "\n",
    "def calculate_mic(site :str):\n",
    "    data=pd.read_excel(site + '.xlsx')\n",
    "    data.drop('date',axis=1,inplace=True)\n",
    "    corr = np.ones((data.shape[1],data.shape[1])) * -1\n",
    "    \n",
    "    for i in range(data.shape[1]):\n",
    "        for j in range(data.shape[1]):\n",
    "            if(corr[i][j] == -1):\n",
    "                m = MINE()\n",
    "                xx = data.iloc[:,i]\n",
    "                yy = data.iloc[:,j]\n",
    "                m.compute_score(xx, yy)\n",
    "                corr[i][j] = m.mic()\n",
    "                corr[j][i] = m.mic()\n",
    "\n",
    "    df = pd.DataFrame(corr, columns = data.columns, index = data.columns)\n",
    "    df.to_excel(site+'_MIC.xlsx')"
   ]
  },
  {
   "cell_type": "code",
   "execution_count": 13,
   "metadata": {},
   "outputs": [],
   "source": [
    "calculate_mic('宝丰')\n",
    "calculate_mic('淮安')\n",
    "calculate_mic('莒县')\n",
    "calculate_mic('商丘')\n",
    "calculate_mic('寿县')"
   ]
  }
 ],
 "metadata": {
  "kernelspec": {
   "display_name": "Python 3",
   "language": "python",
   "name": "python3"
  },
  "language_info": {
   "codemirror_mode": {
    "name": "ipython",
    "version": 3
   },
   "file_extension": ".py",
   "mimetype": "text/x-python",
   "name": "python",
   "nbconvert_exporter": "python",
   "pygments_lexer": "ipython3",
   "version": "3.9.13"
  }
 },
 "nbformat": 4,
 "nbformat_minor": 5
}
